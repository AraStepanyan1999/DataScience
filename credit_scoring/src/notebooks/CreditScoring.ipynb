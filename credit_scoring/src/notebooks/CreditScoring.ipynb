{
 "cells": [
  {
   "cell_type": "code",
   "execution_count": 255,
   "id": "broadband-letter",
   "metadata": {},
   "outputs": [],
   "source": [
    "import pandas as pd\n",
    "import numpy as np\n",
    "import matplotlib\n",
    "import matplotlib.pyplot as plt\n",
    "import seaborn as sns\n",
    "from sklearn.model_selection import train_test_split\n",
    "from sklearn.metrics import f1_score, balanced_accuracy_score, confusion_matrix\n",
    "from sklearn.preprocessing import StandardScaler\n",
    "from sklearn.linear_model import LogisticRegression, SGDClassifier\n",
    "from sklearn.ensemble import RandomForestClassifier\n",
    "from sklearn.model_selection import cross_val_score, GridSearchCV\n",
    "import collections\n",
    "import warnings\n",
    "warnings.filterwarnings(\"ignore\")"
   ]
  },
  {
   "cell_type": "markdown",
   "id": "seasonal-words",
   "metadata": {},
   "source": [
    " -Здесь мы будет прогнозировать, что человек просрочит выплаты по кредиту на 3 месяца и более (целевой признак - Delinquent90).\n",
    "\n",
    "Признаки клиентов банка:\n",
    "- Age - возраст (вещественный)\n",
    "- Income - месячный доход (вещественный)\n",
    "- BalanceToCreditLimit - отношение баланса на кредитной карте к лимиту по кредиту (вещественный)\n",
    "- DIR - Debt-to-income Ratio (вещественный)\n",
    "- NumLoans - число заемов и кредитных линий\n",
    "- NumRealEstateLoans - число ипотек и заемов, связанных с недвижимостью (натуральное число)\n",
    "- NumDependents - число членов семьи, которых содержит клиент, исключая самого клиента (натуральное число)\n",
    "- Num30-59Delinquencies - число просрочек выплат по кредиту от 30 до 59 дней (натуральное число)\n",
    "- Num60-89Delinquencies - число просрочек выплат по кредиту от 60 до 89 дней (натуральное число)\n",
    "- Delinquent90 - были ли просрочки выплат по кредиту более 90 дней (бинарный) - имеется только в обучающей выборке"
   ]
  },
  {
   "cell_type": "code",
   "execution_count": 256,
   "id": "likely-gathering",
   "metadata": {
    "scrolled": true
   },
   "outputs": [
    {
     "name": "stdout",
     "output_type": "stream",
     "text": [
      "<class 'pandas.core.frame.DataFrame'>\n",
      "Int64Index: 150000 entries, 0 to 74999\n",
      "Data columns (total 11 columns):\n",
      " #   Column                 Non-Null Count   Dtype  \n",
      "---  ------                 --------------   -----  \n",
      " 0   client_id              150000 non-null  int64  \n",
      " 1   DIR                    150000 non-null  float64\n",
      " 2   Age                    150000 non-null  float64\n",
      " 3   NumLoans               150000 non-null  int64  \n",
      " 4   NumRealEstateLoans     150000 non-null  int64  \n",
      " 5   NumDependents          146076 non-null  float64\n",
      " 6   Num30-59Delinquencies  150000 non-null  int64  \n",
      " 7   Num60-89Delinquencies  150000 non-null  int64  \n",
      " 8   Income                 120269 non-null  float64\n",
      " 9   BalanceToCreditLimit   150000 non-null  float64\n",
      " 10  Delinquent90           75000 non-null   float64\n",
      "dtypes: float64(6), int64(5)\n",
      "memory usage: 13.7 MB\n"
     ]
    }
   ],
   "source": [
    "train_data = pd.read_csv(\"Downloads/data/credit_scoring_train.csv\")\n",
    "test_data = pd.read_csv(\"Downloads/data/credit_scoring_test.csv\")\n",
    "\n",
    "all_data = pd.concat([train_data, test_data])\n",
    "all_data.info()"
   ]
  },
  {
   "cell_type": "code",
   "execution_count": 257,
   "id": "limited-stuart",
   "metadata": {
    "scrolled": true
   },
   "outputs": [
    {
     "data": {
      "text/plain": [
       "client_id                    0\n",
       "DIR                          0\n",
       "Age                          0\n",
       "NumLoans                     0\n",
       "NumRealEstateLoans           0\n",
       "NumDependents             3924\n",
       "Num30-59Delinquencies        0\n",
       "Num60-89Delinquencies        0\n",
       "Income                   29731\n",
       "BalanceToCreditLimit         0\n",
       "dtype: int64"
      ]
     },
     "execution_count": 257,
     "metadata": {},
     "output_type": "execute_result"
    }
   ],
   "source": [
    "all_data.drop(columns = \"Delinquent90\").isna().sum()"
   ]
  },
  {
   "cell_type": "code",
   "execution_count": 258,
   "id": "competitive-fitting",
   "metadata": {},
   "outputs": [
    {
     "name": "stdout",
     "output_type": "stream",
     "text": [
      "There are 0 duplicate IDs for 75000 total entries\n"
     ]
    }
   ],
   "source": [
    "# Check for duplicates\n",
    "index_unique = len(set(train_data['client_id']))\n",
    "index_total = train_data.shape[0]\n",
    "index_duplicate = index_total - index_unique\n",
    "print(\"There are \" + str(index_duplicate) + \" duplicate IDs for \" + str(index_total) + \" total entries\")"
   ]
  },
  {
   "cell_type": "code",
   "execution_count": 259,
   "id": "incorporated-count",
   "metadata": {},
   "outputs": [],
   "source": [
    "train_data.drop(\"client_id\", axis = 1, inplace = True)\n",
    "train_data[\"NumDependents\"].fillna(train_data[\"NumDependents\"].median(), inplace=True)\n",
    "train_data[\"Income\"].fillna(train_data[\"Income\"].median(), inplace=True)"
   ]
  },
  {
   "cell_type": "code",
   "execution_count": 260,
   "id": "polish-difference",
   "metadata": {},
   "outputs": [
    {
     "data": {
      "image/png": "[encoded data removed]",
      "text/plain": [
       "<Figure size 432x288 with 1 Axes>"
      ]
     },
     "metadata": {},
     "output_type": "display_data"
    }
   ],
   "source": [
    "sns.set(style='white', context='notebook', palette='deep')\n",
    "ax = sns.countplot(x = train_data.Delinquent90, palette=\"Set3\")\n",
    "ax.set_xlabel('Delinquent90')\n",
    "ax.set_ylabel('Frequency')\n",
    "plt.show()"
   ]
  },
  {
   "cell_type": "code",
   "execution_count": 261,
   "id": "surrounded-joint",
   "metadata": {
    "scrolled": true
   },
   "outputs": [
    {
     "data": {
      "text/html": [
       "<div>\n",
       "<style scoped>\n",
       "    .dataframe tbody tr th:only-of-type {\n",
       "        vertical-align: middle;\n",
       "    }\n",
       "\n",
       "    .dataframe tbody tr th {\n",
       "        vertical-align: top;\n",
       "    }\n",
       "\n",
       "    .dataframe thead th {\n",
       "        text-align: right;\n",
       "    }\n",
       "</style>\n",
       "<table border=\"1\" class=\"dataframe\">\n",
       "  <thead>\n",
       "    <tr style=\"text-align: right;\">\n",
       "      <th></th>\n",
       "      <th>DIR</th>\n",
       "      <th>Age</th>\n",
       "      <th>NumLoans</th>\n",
       "      <th>NumRealEstateLoans</th>\n",
       "      <th>NumDependents</th>\n",
       "      <th>Num30-59Delinquencies</th>\n",
       "      <th>Num60-89Delinquencies</th>\n",
       "      <th>Income</th>\n",
       "      <th>BalanceToCreditLimit</th>\n",
       "      <th>Delinquent90</th>\n",
       "    </tr>\n",
       "  </thead>\n",
       "  <tbody>\n",
       "    <tr>\n",
       "      <th>count</th>\n",
       "      <td>75000.000000</td>\n",
       "      <td>75000.000000</td>\n",
       "      <td>75000.00000</td>\n",
       "      <td>75000.000000</td>\n",
       "      <td>75000.000000</td>\n",
       "      <td>75000.000000</td>\n",
       "      <td>75000.000000</td>\n",
       "      <td>7.500000e+04</td>\n",
       "      <td>75000.000000</td>\n",
       "      <td>75000.000000</td>\n",
       "    </tr>\n",
       "    <tr>\n",
       "      <th>mean</th>\n",
       "      <td>353.260293</td>\n",
       "      <td>52.595605</td>\n",
       "      <td>8.44976</td>\n",
       "      <td>1.016693</td>\n",
       "      <td>0.736653</td>\n",
       "      <td>0.428320</td>\n",
       "      <td>0.248000</td>\n",
       "      <td>6.479642e+03</td>\n",
       "      <td>6.276196</td>\n",
       "      <td>0.066840</td>\n",
       "    </tr>\n",
       "    <tr>\n",
       "      <th>std</th>\n",
       "      <td>2117.237432</td>\n",
       "      <td>14.869729</td>\n",
       "      <td>5.15644</td>\n",
       "      <td>1.124019</td>\n",
       "      <td>1.100357</td>\n",
       "      <td>4.276439</td>\n",
       "      <td>4.239486</td>\n",
       "      <td>1.275356e+04</td>\n",
       "      <td>267.743321</td>\n",
       "      <td>0.249746</td>\n",
       "    </tr>\n",
       "    <tr>\n",
       "      <th>min</th>\n",
       "      <td>0.000000</td>\n",
       "      <td>21.000000</td>\n",
       "      <td>0.00000</td>\n",
       "      <td>0.000000</td>\n",
       "      <td>0.000000</td>\n",
       "      <td>0.000000</td>\n",
       "      <td>0.000000</td>\n",
       "      <td>0.000000e+00</td>\n",
       "      <td>0.000000</td>\n",
       "      <td>0.000000</td>\n",
       "    </tr>\n",
       "    <tr>\n",
       "      <th>20%</th>\n",
       "      <td>0.134238</td>\n",
       "      <td>39.100000</td>\n",
       "      <td>4.00000</td>\n",
       "      <td>0.000000</td>\n",
       "      <td>0.000000</td>\n",
       "      <td>0.000000</td>\n",
       "      <td>0.000000</td>\n",
       "      <td>3.417880e+03</td>\n",
       "      <td>0.019069</td>\n",
       "      <td>0.000000</td>\n",
       "    </tr>\n",
       "    <tr>\n",
       "      <th>40%</th>\n",
       "      <td>0.288886</td>\n",
       "      <td>48.200000</td>\n",
       "      <td>6.00000</td>\n",
       "      <td>1.000000</td>\n",
       "      <td>0.000000</td>\n",
       "      <td>0.000000</td>\n",
       "      <td>0.000000</td>\n",
       "      <td>5.416644e+03</td>\n",
       "      <td>0.083070</td>\n",
       "      <td>0.000000</td>\n",
       "    </tr>\n",
       "    <tr>\n",
       "      <th>50%</th>\n",
       "      <td>0.366848</td>\n",
       "      <td>52.200000</td>\n",
       "      <td>8.00000</td>\n",
       "      <td>1.000000</td>\n",
       "      <td>0.000000</td>\n",
       "      <td>0.000000</td>\n",
       "      <td>0.000000</td>\n",
       "      <td>5.424552e+03</td>\n",
       "      <td>0.153720</td>\n",
       "      <td>0.000000</td>\n",
       "    </tr>\n",
       "    <tr>\n",
       "      <th>60%</th>\n",
       "      <td>0.467769</td>\n",
       "      <td>56.400000</td>\n",
       "      <td>9.00000</td>\n",
       "      <td>1.000000</td>\n",
       "      <td>0.000000</td>\n",
       "      <td>0.000000</td>\n",
       "      <td>0.000000</td>\n",
       "      <td>5.430857e+03</td>\n",
       "      <td>0.271751</td>\n",
       "      <td>0.000000</td>\n",
       "    </tr>\n",
       "    <tr>\n",
       "      <th>80%</th>\n",
       "      <td>3.647766</td>\n",
       "      <td>65.300000</td>\n",
       "      <td>12.00000</td>\n",
       "      <td>2.000000</td>\n",
       "      <td>2.000000</td>\n",
       "      <td>0.000000</td>\n",
       "      <td>0.000000</td>\n",
       "      <td>8.309490e+03</td>\n",
       "      <td>0.700804</td>\n",
       "      <td>0.000000</td>\n",
       "    </tr>\n",
       "    <tr>\n",
       "      <th>max</th>\n",
       "      <td>332600.272820</td>\n",
       "      <td>109.800000</td>\n",
       "      <td>56.00000</td>\n",
       "      <td>32.000000</td>\n",
       "      <td>20.000000</td>\n",
       "      <td>98.000000</td>\n",
       "      <td>98.000000</td>\n",
       "      <td>1.805573e+06</td>\n",
       "      <td>50873.874533</td>\n",
       "      <td>1.000000</td>\n",
       "    </tr>\n",
       "  </tbody>\n",
       "</table>\n",
       "</div>"
      ],
      "text/plain": [
       "                 DIR           Age     NumLoans  NumRealEstateLoans  \\\n",
       "count   75000.000000  75000.000000  75000.00000        75000.000000   \n",
       "mean      353.260293     52.595605      8.44976            1.016693   \n",
       "std      2117.237432     14.869729      5.15644            1.124019   \n",
       "min         0.000000     21.000000      0.00000            0.000000   \n",
       "20%         0.134238     39.100000      4.00000            0.000000   \n",
       "40%         0.288886     48.200000      6.00000            1.000000   \n",
       "50%         0.366848     52.200000      8.00000            1.000000   \n",
       "60%         0.467769     56.400000      9.00000            1.000000   \n",
       "80%         3.647766     65.300000     12.00000            2.000000   \n",
       "max    332600.272820    109.800000     56.00000           32.000000   \n",
       "\n",
       "       NumDependents  Num30-59Delinquencies  Num60-89Delinquencies  \\\n",
       "count   75000.000000           75000.000000           75000.000000   \n",
       "mean        0.736653               0.428320               0.248000   \n",
       "std         1.100357               4.276439               4.239486   \n",
       "min         0.000000               0.000000               0.000000   \n",
       "20%         0.000000               0.000000               0.000000   \n",
       "40%         0.000000               0.000000               0.000000   \n",
       "50%         0.000000               0.000000               0.000000   \n",
       "60%         0.000000               0.000000               0.000000   \n",
       "80%         2.000000               0.000000               0.000000   \n",
       "max        20.000000              98.000000              98.000000   \n",
       "\n",
       "             Income  BalanceToCreditLimit  Delinquent90  \n",
       "count  7.500000e+04          75000.000000  75000.000000  \n",
       "mean   6.479642e+03              6.276196      0.066840  \n",
       "std    1.275356e+04            267.743321      0.249746  \n",
       "min    0.000000e+00              0.000000      0.000000  \n",
       "20%    3.417880e+03              0.019069      0.000000  \n",
       "40%    5.416644e+03              0.083070      0.000000  \n",
       "50%    5.424552e+03              0.153720      0.000000  \n",
       "60%    5.430857e+03              0.271751      0.000000  \n",
       "80%    8.309490e+03              0.700804      0.000000  \n",
       "max    1.805573e+06          50873.874533      1.000000  "
      ]
     },
     "execution_count": 261,
     "metadata": {},
     "output_type": "execute_result"
    }
   ],
   "source": [
    "train_data.describe(percentiles=[0.2, 0.4, 0.6, 0.8])"
   ]
  },
  {
   "cell_type": "code",
   "execution_count": 262,
   "id": "early-angle",
   "metadata": {},
   "outputs": [],
   "source": [
    "def detect_outliers(df):\n",
    "    \n",
    "    data = df[df[\"Delinquent90\"]==0].drop(columns=\"Delinquent90\")\n",
    "    \n",
    "    outlier_indices = []\n",
    "    for col in data.columns:\n",
    "        IQR = np.percentile(data[col], 80)\n",
    "        outlier_list_col = data[data[col] > IQR].index\n",
    "        outlier_indices.extend(outlier_list_col)\n",
    "\n",
    "    outlier_indices = collections.Counter(outlier_indices)\n",
    "    multiple_outliers = list(k for k, v in outlier_indices.items() if v > 2)\n",
    "\n",
    "\n",
    "\n",
    "    df = df.drop(multiple_outliers, axis=0).reset_index(drop=True)\n",
    "\n",
    "    return multiple_outliers"
   ]
  },
  {
   "cell_type": "code",
   "execution_count": 263,
   "id": "macro-correction",
   "metadata": {},
   "outputs": [
    {
     "data": {
      "text/html": [
       "<div>\n",
       "<style scoped>\n",
       "    .dataframe tbody tr th:only-of-type {\n",
       "        vertical-align: middle;\n",
       "    }\n",
       "\n",
       "    .dataframe tbody tr th {\n",
       "        vertical-align: top;\n",
       "    }\n",
       "\n",
       "    .dataframe thead th {\n",
       "        text-align: right;\n",
       "    }\n",
       "</style>\n",
       "<table border=\"1\" class=\"dataframe\">\n",
       "  <thead>\n",
       "    <tr style=\"text-align: right;\">\n",
       "      <th></th>\n",
       "      <th>DIR</th>\n",
       "      <th>Age</th>\n",
       "      <th>NumLoans</th>\n",
       "      <th>NumRealEstateLoans</th>\n",
       "      <th>NumDependents</th>\n",
       "      <th>Num30-59Delinquencies</th>\n",
       "      <th>Num60-89Delinquencies</th>\n",
       "      <th>Income</th>\n",
       "      <th>BalanceToCreditLimit</th>\n",
       "      <th>Delinquent90</th>\n",
       "    </tr>\n",
       "  </thead>\n",
       "  <tbody>\n",
       "    <tr>\n",
       "      <th>2</th>\n",
       "      <td>2206.731199</td>\n",
       "      <td>55.5</td>\n",
       "      <td>21</td>\n",
       "      <td>1</td>\n",
       "      <td>0.0</td>\n",
       "      <td>1</td>\n",
       "      <td>0</td>\n",
       "      <td>5424.552473</td>\n",
       "      <td>0.348227</td>\n",
       "      <td>0</td>\n",
       "    </tr>\n",
       "    <tr>\n",
       "      <th>81</th>\n",
       "      <td>2666.231357</td>\n",
       "      <td>63.4</td>\n",
       "      <td>16</td>\n",
       "      <td>1</td>\n",
       "      <td>0.0</td>\n",
       "      <td>6</td>\n",
       "      <td>1</td>\n",
       "      <td>5424.552473</td>\n",
       "      <td>0.570821</td>\n",
       "      <td>0</td>\n",
       "    </tr>\n",
       "    <tr>\n",
       "      <th>90</th>\n",
       "      <td>10788.752948</td>\n",
       "      <td>76.7</td>\n",
       "      <td>13</td>\n",
       "      <td>6</td>\n",
       "      <td>0.0</td>\n",
       "      <td>0</td>\n",
       "      <td>0</td>\n",
       "      <td>5424.552473</td>\n",
       "      <td>0.116273</td>\n",
       "      <td>0</td>\n",
       "    </tr>\n",
       "    <tr>\n",
       "      <th>111</th>\n",
       "      <td>3034.798634</td>\n",
       "      <td>67.3</td>\n",
       "      <td>15</td>\n",
       "      <td>2</td>\n",
       "      <td>2.0</td>\n",
       "      <td>0</td>\n",
       "      <td>0</td>\n",
       "      <td>5424.552473</td>\n",
       "      <td>0.601902</td>\n",
       "      <td>0</td>\n",
       "    </tr>\n",
       "    <tr>\n",
       "      <th>138</th>\n",
       "      <td>619.516245</td>\n",
       "      <td>51.4</td>\n",
       "      <td>5</td>\n",
       "      <td>0</td>\n",
       "      <td>3.0</td>\n",
       "      <td>0</td>\n",
       "      <td>0</td>\n",
       "      <td>5424.552473</td>\n",
       "      <td>1.067577</td>\n",
       "      <td>0</td>\n",
       "    </tr>\n",
       "    <tr>\n",
       "      <th>...</th>\n",
       "      <td>...</td>\n",
       "      <td>...</td>\n",
       "      <td>...</td>\n",
       "      <td>...</td>\n",
       "      <td>...</td>\n",
       "      <td>...</td>\n",
       "      <td>...</td>\n",
       "      <td>...</td>\n",
       "      <td>...</td>\n",
       "      <td>...</td>\n",
       "    </tr>\n",
       "    <tr>\n",
       "      <th>61847</th>\n",
       "      <td>0.391230</td>\n",
       "      <td>39.0</td>\n",
       "      <td>6</td>\n",
       "      <td>1</td>\n",
       "      <td>1.0</td>\n",
       "      <td>0</td>\n",
       "      <td>1</td>\n",
       "      <td>9042.562174</td>\n",
       "      <td>1.000959</td>\n",
       "      <td>0</td>\n",
       "    </tr>\n",
       "    <tr>\n",
       "      <th>63958</th>\n",
       "      <td>0.391264</td>\n",
       "      <td>50.4</td>\n",
       "      <td>11</td>\n",
       "      <td>2</td>\n",
       "      <td>1.0</td>\n",
       "      <td>0</td>\n",
       "      <td>1</td>\n",
       "      <td>10504.163656</td>\n",
       "      <td>1.001888</td>\n",
       "      <td>0</td>\n",
       "    </tr>\n",
       "    <tr>\n",
       "      <th>66251</th>\n",
       "      <td>0.209562</td>\n",
       "      <td>38.1</td>\n",
       "      <td>7</td>\n",
       "      <td>1</td>\n",
       "      <td>2.0</td>\n",
       "      <td>0</td>\n",
       "      <td>2</td>\n",
       "      <td>16005.236304</td>\n",
       "      <td>1.000643</td>\n",
       "      <td>0</td>\n",
       "    </tr>\n",
       "    <tr>\n",
       "      <th>69720</th>\n",
       "      <td>0.516579</td>\n",
       "      <td>51.4</td>\n",
       "      <td>5</td>\n",
       "      <td>2</td>\n",
       "      <td>2.0</td>\n",
       "      <td>0</td>\n",
       "      <td>1</td>\n",
       "      <td>8423.370587</td>\n",
       "      <td>0.897676</td>\n",
       "      <td>0</td>\n",
       "    </tr>\n",
       "    <tr>\n",
       "      <th>70713</th>\n",
       "      <td>0.404132</td>\n",
       "      <td>52.3</td>\n",
       "      <td>11</td>\n",
       "      <td>2</td>\n",
       "      <td>2.0</td>\n",
       "      <td>0</td>\n",
       "      <td>1</td>\n",
       "      <td>8759.517187</td>\n",
       "      <td>0.942706</td>\n",
       "      <td>0</td>\n",
       "    </tr>\n",
       "  </tbody>\n",
       "</table>\n",
       "<p>8374 rows × 10 columns</p>\n",
       "</div>"
      ],
      "text/plain": [
       "                DIR   Age  NumLoans  NumRealEstateLoans  NumDependents  \\\n",
       "2       2206.731199  55.5        21                   1            0.0   \n",
       "81      2666.231357  63.4        16                   1            0.0   \n",
       "90     10788.752948  76.7        13                   6            0.0   \n",
       "111     3034.798634  67.3        15                   2            2.0   \n",
       "138      619.516245  51.4         5                   0            3.0   \n",
       "...             ...   ...       ...                 ...            ...   \n",
       "61847      0.391230  39.0         6                   1            1.0   \n",
       "63958      0.391264  50.4        11                   2            1.0   \n",
       "66251      0.209562  38.1         7                   1            2.0   \n",
       "69720      0.516579  51.4         5                   2            2.0   \n",
       "70713      0.404132  52.3        11                   2            2.0   \n",
       "\n",
       "       Num30-59Delinquencies  Num60-89Delinquencies        Income  \\\n",
       "2                          1                      0   5424.552473   \n",
       "81                         6                      1   5424.552473   \n",
       "90                         0                      0   5424.552473   \n",
       "111                        0                      0   5424.552473   \n",
       "138                        0                      0   5424.552473   \n",
       "...                      ...                    ...           ...   \n",
       "61847                      0                      1   9042.562174   \n",
       "63958                      0                      1  10504.163656   \n",
       "66251                      0                      2  16005.236304   \n",
       "69720                      0                      1   8423.370587   \n",
       "70713                      0                      1   8759.517187   \n",
       "\n",
       "       BalanceToCreditLimit  Delinquent90  \n",
       "2                  0.348227             0  \n",
       "81                 0.570821             0  \n",
       "90                 0.116273             0  \n",
       "111                0.601902             0  \n",
       "138                1.067577             0  \n",
       "...                     ...           ...  \n",
       "61847              1.000959             0  \n",
       "63958              1.001888             0  \n",
       "66251              1.000643             0  \n",
       "69720              0.897676             0  \n",
       "70713              0.942706             0  \n",
       "\n",
       "[8374 rows x 10 columns]"
      ]
     },
     "execution_count": 263,
     "metadata": {},
     "output_type": "execute_result"
    }
   ],
   "source": [
    "train_data.loc[detect_outliers(train_data)]"
   ]
  },
  {
   "cell_type": "code",
   "execution_count": 264,
   "id": "academic-tuition",
   "metadata": {},
   "outputs": [],
   "source": [
    "train_data = train_data.drop(detect_outliers(train_data), axis = 0).reset_index(drop=True)"
   ]
  },
  {
   "cell_type": "code",
   "execution_count": 265,
   "id": "paperback-luxury",
   "metadata": {},
   "outputs": [
    {
     "data": {
      "text/html": [
       "<div>\n",
       "<style scoped>\n",
       "    .dataframe tbody tr th:only-of-type {\n",
       "        vertical-align: middle;\n",
       "    }\n",
       "\n",
       "    .dataframe tbody tr th {\n",
       "        vertical-align: top;\n",
       "    }\n",
       "\n",
       "    .dataframe thead th {\n",
       "        text-align: right;\n",
       "    }\n",
       "</style>\n",
       "<table border=\"1\" class=\"dataframe\">\n",
       "  <thead>\n",
       "    <tr style=\"text-align: right;\">\n",
       "      <th></th>\n",
       "      <th>DIR</th>\n",
       "      <th>Age</th>\n",
       "      <th>NumLoans</th>\n",
       "      <th>NumRealEstateLoans</th>\n",
       "      <th>NumDependents</th>\n",
       "      <th>Num30-59Delinquencies</th>\n",
       "      <th>Num60-89Delinquencies</th>\n",
       "      <th>Income</th>\n",
       "      <th>BalanceToCreditLimit</th>\n",
       "      <th>Delinquent90</th>\n",
       "    </tr>\n",
       "  </thead>\n",
       "  <tbody>\n",
       "    <tr>\n",
       "      <th>0</th>\n",
       "      <td>0.496289</td>\n",
       "      <td>49.1</td>\n",
       "      <td>13</td>\n",
       "      <td>0</td>\n",
       "      <td>0.0</td>\n",
       "      <td>2</td>\n",
       "      <td>0</td>\n",
       "      <td>5298.360639</td>\n",
       "      <td>0.387028</td>\n",
       "      <td>0</td>\n",
       "    </tr>\n",
       "    <tr>\n",
       "      <th>1</th>\n",
       "      <td>0.433567</td>\n",
       "      <td>48.0</td>\n",
       "      <td>9</td>\n",
       "      <td>2</td>\n",
       "      <td>2.0</td>\n",
       "      <td>1</td>\n",
       "      <td>0</td>\n",
       "      <td>6008.056256</td>\n",
       "      <td>0.234679</td>\n",
       "      <td>0</td>\n",
       "    </tr>\n",
       "    <tr>\n",
       "      <th>2</th>\n",
       "      <td>886.132793</td>\n",
       "      <td>55.3</td>\n",
       "      <td>3</td>\n",
       "      <td>0</td>\n",
       "      <td>0.0</td>\n",
       "      <td>0</td>\n",
       "      <td>0</td>\n",
       "      <td>5424.552473</td>\n",
       "      <td>0.971930</td>\n",
       "      <td>0</td>\n",
       "    </tr>\n",
       "    <tr>\n",
       "      <th>3</th>\n",
       "      <td>0.000000</td>\n",
       "      <td>52.3</td>\n",
       "      <td>1</td>\n",
       "      <td>0</td>\n",
       "      <td>0.0</td>\n",
       "      <td>0</td>\n",
       "      <td>0</td>\n",
       "      <td>2504.613105</td>\n",
       "      <td>1.004350</td>\n",
       "      <td>0</td>\n",
       "    </tr>\n",
       "    <tr>\n",
       "      <th>4</th>\n",
       "      <td>0.461193</td>\n",
       "      <td>71.3</td>\n",
       "      <td>9</td>\n",
       "      <td>0</td>\n",
       "      <td>0.0</td>\n",
       "      <td>0</td>\n",
       "      <td>0</td>\n",
       "      <td>3562.767475</td>\n",
       "      <td>0.039618</td>\n",
       "      <td>0</td>\n",
       "    </tr>\n",
       "    <tr>\n",
       "      <th>...</th>\n",
       "      <td>...</td>\n",
       "      <td>...</td>\n",
       "      <td>...</td>\n",
       "      <td>...</td>\n",
       "      <td>...</td>\n",
       "      <td>...</td>\n",
       "      <td>...</td>\n",
       "      <td>...</td>\n",
       "      <td>...</td>\n",
       "      <td>...</td>\n",
       "    </tr>\n",
       "    <tr>\n",
       "      <th>66621</th>\n",
       "      <td>0.169463</td>\n",
       "      <td>67.6</td>\n",
       "      <td>5</td>\n",
       "      <td>1</td>\n",
       "      <td>0.0</td>\n",
       "      <td>0</td>\n",
       "      <td>0</td>\n",
       "      <td>20129.654428</td>\n",
       "      <td>0.074689</td>\n",
       "      <td>0</td>\n",
       "    </tr>\n",
       "    <tr>\n",
       "      <th>66622</th>\n",
       "      <td>2085.662215</td>\n",
       "      <td>43.2</td>\n",
       "      <td>1</td>\n",
       "      <td>1</td>\n",
       "      <td>0.0</td>\n",
       "      <td>0</td>\n",
       "      <td>0</td>\n",
       "      <td>5424.552473</td>\n",
       "      <td>1.005390</td>\n",
       "      <td>0</td>\n",
       "    </tr>\n",
       "    <tr>\n",
       "      <th>66623</th>\n",
       "      <td>0.118935</td>\n",
       "      <td>23.0</td>\n",
       "      <td>4</td>\n",
       "      <td>0</td>\n",
       "      <td>0.0</td>\n",
       "      <td>2</td>\n",
       "      <td>0</td>\n",
       "      <td>2019.117329</td>\n",
       "      <td>0.384511</td>\n",
       "      <td>0</td>\n",
       "    </tr>\n",
       "    <tr>\n",
       "      <th>66624</th>\n",
       "      <td>0.203414</td>\n",
       "      <td>46.3</td>\n",
       "      <td>14</td>\n",
       "      <td>2</td>\n",
       "      <td>0.0</td>\n",
       "      <td>0</td>\n",
       "      <td>0</td>\n",
       "      <td>16823.909642</td>\n",
       "      <td>0.524093</td>\n",
       "      <td>0</td>\n",
       "    </tr>\n",
       "    <tr>\n",
       "      <th>66625</th>\n",
       "      <td>0.037120</td>\n",
       "      <td>57.4</td>\n",
       "      <td>13</td>\n",
       "      <td>0</td>\n",
       "      <td>0.0</td>\n",
       "      <td>0</td>\n",
       "      <td>0</td>\n",
       "      <td>10556.892855</td>\n",
       "      <td>0.075616</td>\n",
       "      <td>0</td>\n",
       "    </tr>\n",
       "  </tbody>\n",
       "</table>\n",
       "<p>66626 rows × 10 columns</p>\n",
       "</div>"
      ],
      "text/plain": [
       "               DIR   Age  NumLoans  NumRealEstateLoans  NumDependents  \\\n",
       "0         0.496289  49.1        13                   0            0.0   \n",
       "1         0.433567  48.0         9                   2            2.0   \n",
       "2       886.132793  55.3         3                   0            0.0   \n",
       "3         0.000000  52.3         1                   0            0.0   \n",
       "4         0.461193  71.3         9                   0            0.0   \n",
       "...            ...   ...       ...                 ...            ...   \n",
       "66621     0.169463  67.6         5                   1            0.0   \n",
       "66622  2085.662215  43.2         1                   1            0.0   \n",
       "66623     0.118935  23.0         4                   0            0.0   \n",
       "66624     0.203414  46.3        14                   2            0.0   \n",
       "66625     0.037120  57.4        13                   0            0.0   \n",
       "\n",
       "       Num30-59Delinquencies  Num60-89Delinquencies        Income  \\\n",
       "0                          2                      0   5298.360639   \n",
       "1                          1                      0   6008.056256   \n",
       "2                          0                      0   5424.552473   \n",
       "3                          0                      0   2504.613105   \n",
       "4                          0                      0   3562.767475   \n",
       "...                      ...                    ...           ...   \n",
       "66621                      0                      0  20129.654428   \n",
       "66622                      0                      0   5424.552473   \n",
       "66623                      2                      0   2019.117329   \n",
       "66624                      0                      0  16823.909642   \n",
       "66625                      0                      0  10556.892855   \n",
       "\n",
       "       BalanceToCreditLimit  Delinquent90  \n",
       "0                  0.387028             0  \n",
       "1                  0.234679             0  \n",
       "2                  0.971930             0  \n",
       "3                  1.004350             0  \n",
       "4                  0.039618             0  \n",
       "...                     ...           ...  \n",
       "66621              0.074689             0  \n",
       "66622              1.005390             0  \n",
       "66623              0.384511             0  \n",
       "66624              0.524093             0  \n",
       "66625              0.075616             0  \n",
       "\n",
       "[66626 rows x 10 columns]"
      ]
     },
     "execution_count": 265,
     "metadata": {},
     "output_type": "execute_result"
    }
   ],
   "source": [
    "train_data"
   ]
  },
  {
   "cell_type": "code",
   "execution_count": 266,
   "id": "coordinated-immunology",
   "metadata": {},
   "outputs": [
    {
     "data": {
      "text/plain": [
       "<seaborn.axisgrid.FacetGrid at 0x7ff1c4d9d4c0>"
      ]
     },
     "execution_count": 266,
     "metadata": {},
     "output_type": "execute_result"
    },
    {
     "data": {
      "image/png": "[encoded data removed]",
      "text/plain": [
       "<Figure size 1080x1080 with 1 Axes>"
      ]
     },
     "metadata": {},
     "output_type": "display_data"
    }
   ],
   "source": [
    "train_data.Age = train_data.Age.astype(int)\n",
    "sns.factorplot(x=\"Age\", y=\"Delinquent90\",data=train_data, kind=\"bar\", size=15, palette = \"muted\")"
   ]
  },
  {
   "cell_type": "code",
   "execution_count": 267,
   "id": "julian-northeast",
   "metadata": {
    "scrolled": true
   },
   "outputs": [
    {
     "data": {
      "text/plain": [
       "<seaborn.axisgrid.FacetGrid at 0x7ff1c5336a30>"
      ]
     },
     "execution_count": 267,
     "metadata": {},
     "output_type": "execute_result"
    },
    {
     "data": {
      "image/png": "[encoded data removed]",
      "text/plain": [
       "<Figure size 288x288 with 1 Axes>"
      ]
     },
     "metadata": {},
     "output_type": "display_data"
    }
   ],
   "source": [
    "train_data.Age = pd.qcut(train_data.Age.values, 5).codes\n",
    "sns.factorplot(x=\"Age\", y=\"Delinquent90\",data=train_data, kind=\"bar\", size=4, palette = \"muted\")"
   ]
  },
  {
   "cell_type": "code",
   "execution_count": 268,
   "id": "framed-newcastle",
   "metadata": {
    "scrolled": true
   },
   "outputs": [
    {
     "data": {
      "text/plain": [
       "<seaborn.axisgrid.FacetGrid at 0x7ff1c52d8430>"
      ]
     },
     "execution_count": 268,
     "metadata": {},
     "output_type": "execute_result"
    },
    {
     "data": {
      "image/png": "[encoded data removed]",
      "text/plain": [
       "<Figure size 720x720 with 1 Axes>"
      ]
     },
     "metadata": {},
     "output_type": "display_data"
    }
   ],
   "source": [
    "sns.factorplot(x=\"NumLoans\", y=\"Delinquent90\",data=train_data, kind=\"bar\", size=10, palette = \"muted\")"
   ]
  },
  {
   "cell_type": "code",
   "execution_count": 269,
   "id": "institutional-tobacco",
   "metadata": {},
   "outputs": [
    {
     "data": {
      "text/plain": [
       "<seaborn.axisgrid.FacetGrid at 0x7ff1c53369a0>"
      ]
     },
     "execution_count": 269,
     "metadata": {},
     "output_type": "execute_result"
    },
    {
     "data": {
      "image/png": "[encoded data removed]",
      "text/plain": [
       "<Figure size 288x288 with 1 Axes>"
      ]
     },
     "metadata": {},
     "output_type": "display_data"
    }
   ],
   "source": [
    "train_data.NumLoans = pd.qcut(train_data.NumLoans.values, 5).codes\n",
    "sns.factorplot(x=\"NumLoans\", y=\"Delinquent90\",data=train_data, kind=\"bar\", size=4, palette = \"muted\")"
   ]
  },
  {
   "cell_type": "code",
   "execution_count": 270,
   "id": "eastern-gallery",
   "metadata": {},
   "outputs": [
    {
     "data": {
      "text/plain": [
       "<seaborn.axisgrid.FacetGrid at 0x7ff1c50d3850>"
      ]
     },
     "execution_count": 270,
     "metadata": {},
     "output_type": "execute_result"
    },
    {
     "data": {
      "image/png": "[encoded data removed]",
      "text/plain": [
       "<Figure size 432x432 with 1 Axes>"
      ]
     },
     "metadata": {},
     "output_type": "display_data"
    }
   ],
   "source": [
    "sns.factorplot(x=\"NumDependents\", y=\"Delinquent90\",data=train_data, kind=\"bar\", size=6, palette = \"muted\")"
   ]
  },
  {
   "cell_type": "code",
   "execution_count": 271,
   "id": "amended-immigration",
   "metadata": {},
   "outputs": [
    {
     "data": {
      "text/plain": [
       "<seaborn.axisgrid.FacetGrid at 0x7ff1c50d3580>"
      ]
     },
     "execution_count": 271,
     "metadata": {},
     "output_type": "execute_result"
    },
    {
     "data": {
      "image/png": "[encoded data removed]",
      "text/plain": [
       "<Figure size 288x288 with 1 Axes>"
      ]
     },
     "metadata": {},
     "output_type": "display_data"
    }
   ],
   "source": [
    "train_data.NumDependents = pd.cut(train_data.NumDependents, bins=[-1, 0, 4, np.inf])\n",
    "sns.factorplot(x=\"NumDependents\", y=\"Delinquent90\",data=train_data, kind=\"bar\", size=4, palette = \"muted\")"
   ]
  },
  {
   "cell_type": "code",
   "execution_count": 272,
   "id": "national-memory",
   "metadata": {},
   "outputs": [
    {
     "data": {
      "text/plain": [
       "<seaborn.axisgrid.FacetGrid at 0x7ff1c50af910>"
      ]
     },
     "execution_count": 272,
     "metadata": {},
     "output_type": "execute_result"
    },
    {
     "data": {
      "image/png": "[encoded data removed]",
      "text/plain": [
       "<Figure size 288x288 with 1 Axes>"
      ]
     },
     "metadata": {},
     "output_type": "display_data"
    }
   ],
   "source": [
    "sns.factorplot(x='NumRealEstateLoans', y=\"Delinquent90\",data=train_data, kind=\"bar\", size=4)"
   ]
  },
  {
   "cell_type": "code",
   "execution_count": 273,
   "id": "endangered-organic",
   "metadata": {
    "scrolled": true
   },
   "outputs": [
    {
     "data": {
      "text/plain": [
       "<seaborn.axisgrid.FacetGrid at 0x7ff1c4fcd640>"
      ]
     },
     "execution_count": 273,
     "metadata": {},
     "output_type": "execute_result"
    },
    {
     "data": {
      "image/png": "[encoded data removed]",
      "text/plain": [
       "<Figure size 216x216 with 1 Axes>"
      ]
     },
     "metadata": {},
     "output_type": "display_data"
    }
   ],
   "source": [
    "train_data.NumRealEstateLoans = pd.cut(train_data.NumRealEstateLoans, bins=[-1,5,7,np.inf])\n",
    "sns.factorplot(x='NumRealEstateLoans', y=\"Delinquent90\", data=train_data, kind=\"bar\", size=3)"
   ]
  },
  {
   "cell_type": "code",
   "execution_count": 274,
   "id": "discrete-cycling",
   "metadata": {},
   "outputs": [
    {
     "data": {
      "text/plain": [
       "<seaborn.axisgrid.FacetGrid at 0x7ff1c57d3d00>"
      ]
     },
     "execution_count": 274,
     "metadata": {},
     "output_type": "execute_result"
    },
    {
     "data": {
      "image/png": "[encoded data removed]",
      "text/plain": [
       "<Figure size 288x288 with 1 Axes>"
      ]
     },
     "metadata": {},
     "output_type": "display_data"
    }
   ],
   "source": [
    "sns.factorplot(x=\"Num30-59Delinquencies\", y=\"Delinquent90\",data=train_data, kind=\"bar\", size=4, palette = \"muted\")"
   ]
  },
  {
   "cell_type": "code",
   "execution_count": 275,
   "id": "fleet-wilson",
   "metadata": {},
   "outputs": [
    {
     "data": {
      "text/plain": [
       "<seaborn.axisgrid.FacetGrid at 0x7ff1c5008640>"
      ]
     },
     "execution_count": 275,
     "metadata": {},
     "output_type": "execute_result"
    },
    {
     "data": {
      "image/png": "[encoded data removed]",
      "text/plain": [
       "<Figure size 288x288 with 1 Axes>"
      ]
     },
     "metadata": {},
     "output_type": "display_data"
    }
   ],
   "source": [
    "train_data[\"Num30-59Delinquencies\"] = pd.cut(train_data[\"Num30-59Delinquencies\"],\n",
    "                                             bins = [-1, 0.5, 1, 2, 5, np.inf])\n",
    "sns.factorplot(x=\"Num30-59Delinquencies\", y=\"Delinquent90\",data=train_data, kind=\"bar\", size=4, palette = \"muted\")"
   ]
  },
  {
   "cell_type": "code",
   "execution_count": 276,
   "id": "organized-twelve",
   "metadata": {},
   "outputs": [
    {
     "data": {
      "text/plain": [
       "<seaborn.axisgrid.FacetGrid at 0x7ff19dec11f0>"
      ]
     },
     "execution_count": 276,
     "metadata": {},
     "output_type": "execute_result"
    },
    {
     "data": {
      "image/png": "[encoded data removed]",
      "text/plain": [
       "<Figure size 288x288 with 1 Axes>"
      ]
     },
     "metadata": {},
     "output_type": "display_data"
    }
   ],
   "source": [
    "sns.factorplot(x=\"Num60-89Delinquencies\", y=\"Delinquent90\",data=train_data, kind=\"bar\", size=4, palette = \"muted\")"
   ]
  },
  {
   "cell_type": "code",
   "execution_count": 277,
   "id": "attached-enhancement",
   "metadata": {},
   "outputs": [
    {
     "data": {
      "text/plain": [
       "<seaborn.axisgrid.FacetGrid at 0x7ff1c5008580>"
      ]
     },
     "execution_count": 277,
     "metadata": {},
     "output_type": "execute_result"
    },
    {
     "data": {
      "image/png": "[encoded data removed]",
      "text/plain": [
       "<Figure size 288x288 with 1 Axes>"
      ]
     },
     "metadata": {},
     "output_type": "display_data"
    }
   ],
   "source": [
    "train_data[\"Num60-89Delinquencies\"] = pd.cut(train_data[\"Num60-89Delinquencies\"],\n",
    "                                             bins = [-1, 0.5,1, 4, np.inf])\n",
    "sns.factorplot(x=\"Num60-89Delinquencies\", y=\"Delinquent90\",data=train_data, kind=\"bar\", size=4, palette = \"muted\")"
   ]
  },
  {
   "cell_type": "code",
   "execution_count": 278,
   "id": "usual-burke",
   "metadata": {},
   "outputs": [],
   "source": [
    "train_data = pd.get_dummies(train_data, columns = [\"Age\"], prefix=\"Age\")\n",
    "train_data = pd.get_dummies(train_data, columns = [\"NumLoans\"], prefix=\"NumLoans\")\n",
    "train_data = pd.get_dummies(train_data, columns = ['Num30-59Delinquencies'], prefix=\"Num30-59\")\n",
    "train_data = pd.get_dummies(train_data, columns = [\"Num60-89Delinquencies\"], prefix=\"Num60-89\")\n",
    "train_data = pd.get_dummies(train_data, columns = [\"NumDependents\"], prefix=\"NumDependents\")\n",
    "train_data = pd.get_dummies(train_data, columns = [\"NumRealEstateLoans\"], prefix=\"NumRealEstateLoans\")"
   ]
  },
  {
   "cell_type": "code",
   "execution_count": 279,
   "id": "controversial-slope",
   "metadata": {},
   "outputs": [
    {
     "data": {
      "text/html": [
       "<div>\n",
       "<style scoped>\n",
       "    .dataframe tbody tr th:only-of-type {\n",
       "        vertical-align: middle;\n",
       "    }\n",
       "\n",
       "    .dataframe tbody tr th {\n",
       "        vertical-align: top;\n",
       "    }\n",
       "\n",
       "    .dataframe thead th {\n",
       "        text-align: right;\n",
       "    }\n",
       "</style>\n",
       "<table border=\"1\" class=\"dataframe\">\n",
       "  <thead>\n",
       "    <tr style=\"text-align: right;\">\n",
       "      <th></th>\n",
       "      <th>DIR</th>\n",
       "      <th>Income</th>\n",
       "      <th>BalanceToCreditLimit</th>\n",
       "      <th>Delinquent90</th>\n",
       "      <th>Age_0</th>\n",
       "      <th>Age_1</th>\n",
       "      <th>Age_2</th>\n",
       "      <th>Age_3</th>\n",
       "      <th>Age_4</th>\n",
       "      <th>NumLoans_0</th>\n",
       "      <th>...</th>\n",
       "      <th>Num60-89_(-1.0, 0.5]</th>\n",
       "      <th>Num60-89_(0.5, 1.0]</th>\n",
       "      <th>Num60-89_(1.0, 4.0]</th>\n",
       "      <th>Num60-89_(4.0, inf]</th>\n",
       "      <th>NumDependents_(-1.0, 0.0]</th>\n",
       "      <th>NumDependents_(0.0, 4.0]</th>\n",
       "      <th>NumDependents_(4.0, inf]</th>\n",
       "      <th>NumRealEstateLoans_(-1.0, 5.0]</th>\n",
       "      <th>NumRealEstateLoans_(5.0, 7.0]</th>\n",
       "      <th>NumRealEstateLoans_(7.0, inf]</th>\n",
       "    </tr>\n",
       "  </thead>\n",
       "  <tbody>\n",
       "    <tr>\n",
       "      <th>0</th>\n",
       "      <td>0.496289</td>\n",
       "      <td>5298.360639</td>\n",
       "      <td>0.387028</td>\n",
       "      <td>0</td>\n",
       "      <td>0</td>\n",
       "      <td>0</td>\n",
       "      <td>1</td>\n",
       "      <td>0</td>\n",
       "      <td>0</td>\n",
       "      <td>0</td>\n",
       "      <td>...</td>\n",
       "      <td>1</td>\n",
       "      <td>0</td>\n",
       "      <td>0</td>\n",
       "      <td>0</td>\n",
       "      <td>1</td>\n",
       "      <td>0</td>\n",
       "      <td>0</td>\n",
       "      <td>1</td>\n",
       "      <td>0</td>\n",
       "      <td>0</td>\n",
       "    </tr>\n",
       "    <tr>\n",
       "      <th>1</th>\n",
       "      <td>0.433567</td>\n",
       "      <td>6008.056256</td>\n",
       "      <td>0.234679</td>\n",
       "      <td>0</td>\n",
       "      <td>0</td>\n",
       "      <td>0</td>\n",
       "      <td>1</td>\n",
       "      <td>0</td>\n",
       "      <td>0</td>\n",
       "      <td>0</td>\n",
       "      <td>...</td>\n",
       "      <td>1</td>\n",
       "      <td>0</td>\n",
       "      <td>0</td>\n",
       "      <td>0</td>\n",
       "      <td>0</td>\n",
       "      <td>1</td>\n",
       "      <td>0</td>\n",
       "      <td>1</td>\n",
       "      <td>0</td>\n",
       "      <td>0</td>\n",
       "    </tr>\n",
       "    <tr>\n",
       "      <th>2</th>\n",
       "      <td>886.132793</td>\n",
       "      <td>5424.552473</td>\n",
       "      <td>0.971930</td>\n",
       "      <td>0</td>\n",
       "      <td>0</td>\n",
       "      <td>0</td>\n",
       "      <td>1</td>\n",
       "      <td>0</td>\n",
       "      <td>0</td>\n",
       "      <td>1</td>\n",
       "      <td>...</td>\n",
       "      <td>1</td>\n",
       "      <td>0</td>\n",
       "      <td>0</td>\n",
       "      <td>0</td>\n",
       "      <td>1</td>\n",
       "      <td>0</td>\n",
       "      <td>0</td>\n",
       "      <td>1</td>\n",
       "      <td>0</td>\n",
       "      <td>0</td>\n",
       "    </tr>\n",
       "    <tr>\n",
       "      <th>3</th>\n",
       "      <td>0.000000</td>\n",
       "      <td>2504.613105</td>\n",
       "      <td>1.004350</td>\n",
       "      <td>0</td>\n",
       "      <td>0</td>\n",
       "      <td>0</td>\n",
       "      <td>1</td>\n",
       "      <td>0</td>\n",
       "      <td>0</td>\n",
       "      <td>1</td>\n",
       "      <td>...</td>\n",
       "      <td>1</td>\n",
       "      <td>0</td>\n",
       "      <td>0</td>\n",
       "      <td>0</td>\n",
       "      <td>1</td>\n",
       "      <td>0</td>\n",
       "      <td>0</td>\n",
       "      <td>1</td>\n",
       "      <td>0</td>\n",
       "      <td>0</td>\n",
       "    </tr>\n",
       "    <tr>\n",
       "      <th>4</th>\n",
       "      <td>0.461193</td>\n",
       "      <td>3562.767475</td>\n",
       "      <td>0.039618</td>\n",
       "      <td>0</td>\n",
       "      <td>0</td>\n",
       "      <td>0</td>\n",
       "      <td>0</td>\n",
       "      <td>0</td>\n",
       "      <td>1</td>\n",
       "      <td>0</td>\n",
       "      <td>...</td>\n",
       "      <td>1</td>\n",
       "      <td>0</td>\n",
       "      <td>0</td>\n",
       "      <td>0</td>\n",
       "      <td>1</td>\n",
       "      <td>0</td>\n",
       "      <td>0</td>\n",
       "      <td>1</td>\n",
       "      <td>0</td>\n",
       "      <td>0</td>\n",
       "    </tr>\n",
       "    <tr>\n",
       "      <th>...</th>\n",
       "      <td>...</td>\n",
       "      <td>...</td>\n",
       "      <td>...</td>\n",
       "      <td>...</td>\n",
       "      <td>...</td>\n",
       "      <td>...</td>\n",
       "      <td>...</td>\n",
       "      <td>...</td>\n",
       "      <td>...</td>\n",
       "      <td>...</td>\n",
       "      <td>...</td>\n",
       "      <td>...</td>\n",
       "      <td>...</td>\n",
       "      <td>...</td>\n",
       "      <td>...</td>\n",
       "      <td>...</td>\n",
       "      <td>...</td>\n",
       "      <td>...</td>\n",
       "      <td>...</td>\n",
       "      <td>...</td>\n",
       "      <td>...</td>\n",
       "    </tr>\n",
       "    <tr>\n",
       "      <th>66621</th>\n",
       "      <td>0.169463</td>\n",
       "      <td>20129.654428</td>\n",
       "      <td>0.074689</td>\n",
       "      <td>0</td>\n",
       "      <td>0</td>\n",
       "      <td>0</td>\n",
       "      <td>0</td>\n",
       "      <td>0</td>\n",
       "      <td>1</td>\n",
       "      <td>0</td>\n",
       "      <td>...</td>\n",
       "      <td>1</td>\n",
       "      <td>0</td>\n",
       "      <td>0</td>\n",
       "      <td>0</td>\n",
       "      <td>1</td>\n",
       "      <td>0</td>\n",
       "      <td>0</td>\n",
       "      <td>1</td>\n",
       "      <td>0</td>\n",
       "      <td>0</td>\n",
       "    </tr>\n",
       "    <tr>\n",
       "      <th>66622</th>\n",
       "      <td>2085.662215</td>\n",
       "      <td>5424.552473</td>\n",
       "      <td>1.005390</td>\n",
       "      <td>0</td>\n",
       "      <td>0</td>\n",
       "      <td>1</td>\n",
       "      <td>0</td>\n",
       "      <td>0</td>\n",
       "      <td>0</td>\n",
       "      <td>1</td>\n",
       "      <td>...</td>\n",
       "      <td>1</td>\n",
       "      <td>0</td>\n",
       "      <td>0</td>\n",
       "      <td>0</td>\n",
       "      <td>1</td>\n",
       "      <td>0</td>\n",
       "      <td>0</td>\n",
       "      <td>1</td>\n",
       "      <td>0</td>\n",
       "      <td>0</td>\n",
       "    </tr>\n",
       "    <tr>\n",
       "      <th>66623</th>\n",
       "      <td>0.118935</td>\n",
       "      <td>2019.117329</td>\n",
       "      <td>0.384511</td>\n",
       "      <td>0</td>\n",
       "      <td>1</td>\n",
       "      <td>0</td>\n",
       "      <td>0</td>\n",
       "      <td>0</td>\n",
       "      <td>0</td>\n",
       "      <td>1</td>\n",
       "      <td>...</td>\n",
       "      <td>1</td>\n",
       "      <td>0</td>\n",
       "      <td>0</td>\n",
       "      <td>0</td>\n",
       "      <td>1</td>\n",
       "      <td>0</td>\n",
       "      <td>0</td>\n",
       "      <td>1</td>\n",
       "      <td>0</td>\n",
       "      <td>0</td>\n",
       "    </tr>\n",
       "    <tr>\n",
       "      <th>66624</th>\n",
       "      <td>0.203414</td>\n",
       "      <td>16823.909642</td>\n",
       "      <td>0.524093</td>\n",
       "      <td>0</td>\n",
       "      <td>0</td>\n",
       "      <td>1</td>\n",
       "      <td>0</td>\n",
       "      <td>0</td>\n",
       "      <td>0</td>\n",
       "      <td>0</td>\n",
       "      <td>...</td>\n",
       "      <td>1</td>\n",
       "      <td>0</td>\n",
       "      <td>0</td>\n",
       "      <td>0</td>\n",
       "      <td>1</td>\n",
       "      <td>0</td>\n",
       "      <td>0</td>\n",
       "      <td>1</td>\n",
       "      <td>0</td>\n",
       "      <td>0</td>\n",
       "    </tr>\n",
       "    <tr>\n",
       "      <th>66625</th>\n",
       "      <td>0.037120</td>\n",
       "      <td>10556.892855</td>\n",
       "      <td>0.075616</td>\n",
       "      <td>0</td>\n",
       "      <td>0</td>\n",
       "      <td>0</td>\n",
       "      <td>0</td>\n",
       "      <td>1</td>\n",
       "      <td>0</td>\n",
       "      <td>0</td>\n",
       "      <td>...</td>\n",
       "      <td>1</td>\n",
       "      <td>0</td>\n",
       "      <td>0</td>\n",
       "      <td>0</td>\n",
       "      <td>1</td>\n",
       "      <td>0</td>\n",
       "      <td>0</td>\n",
       "      <td>1</td>\n",
       "      <td>0</td>\n",
       "      <td>0</td>\n",
       "    </tr>\n",
       "  </tbody>\n",
       "</table>\n",
       "<p>66626 rows × 29 columns</p>\n",
       "</div>"
      ],
      "text/plain": [
       "               DIR        Income  BalanceToCreditLimit  Delinquent90  Age_0  \\\n",
       "0         0.496289   5298.360639              0.387028             0      0   \n",
       "1         0.433567   6008.056256              0.234679             0      0   \n",
       "2       886.132793   5424.552473              0.971930             0      0   \n",
       "3         0.000000   2504.613105              1.004350             0      0   \n",
       "4         0.461193   3562.767475              0.039618             0      0   \n",
       "...            ...           ...                   ...           ...    ...   \n",
       "66621     0.169463  20129.654428              0.074689             0      0   \n",
       "66622  2085.662215   5424.552473              1.005390             0      0   \n",
       "66623     0.118935   2019.117329              0.384511             0      1   \n",
       "66624     0.203414  16823.909642              0.524093             0      0   \n",
       "66625     0.037120  10556.892855              0.075616             0      0   \n",
       "\n",
       "       Age_1  Age_2  Age_3  Age_4  NumLoans_0  ...  Num60-89_(-1.0, 0.5]  \\\n",
       "0          0      1      0      0           0  ...                     1   \n",
       "1          0      1      0      0           0  ...                     1   \n",
       "2          0      1      0      0           1  ...                     1   \n",
       "3          0      1      0      0           1  ...                     1   \n",
       "4          0      0      0      1           0  ...                     1   \n",
       "...      ...    ...    ...    ...         ...  ...                   ...   \n",
       "66621      0      0      0      1           0  ...                     1   \n",
       "66622      1      0      0      0           1  ...                     1   \n",
       "66623      0      0      0      0           1  ...                     1   \n",
       "66624      1      0      0      0           0  ...                     1   \n",
       "66625      0      0      1      0           0  ...                     1   \n",
       "\n",
       "       Num60-89_(0.5, 1.0]  Num60-89_(1.0, 4.0]  Num60-89_(4.0, inf]  \\\n",
       "0                        0                    0                    0   \n",
       "1                        0                    0                    0   \n",
       "2                        0                    0                    0   \n",
       "3                        0                    0                    0   \n",
       "4                        0                    0                    0   \n",
       "...                    ...                  ...                  ...   \n",
       "66621                    0                    0                    0   \n",
       "66622                    0                    0                    0   \n",
       "66623                    0                    0                    0   \n",
       "66624                    0                    0                    0   \n",
       "66625                    0                    0                    0   \n",
       "\n",
       "       NumDependents_(-1.0, 0.0]  NumDependents_(0.0, 4.0]  \\\n",
       "0                              1                         0   \n",
       "1                              0                         1   \n",
       "2                              1                         0   \n",
       "3                              1                         0   \n",
       "4                              1                         0   \n",
       "...                          ...                       ...   \n",
       "66621                          1                         0   \n",
       "66622                          1                         0   \n",
       "66623                          1                         0   \n",
       "66624                          1                         0   \n",
       "66625                          1                         0   \n",
       "\n",
       "       NumDependents_(4.0, inf]  NumRealEstateLoans_(-1.0, 5.0]  \\\n",
       "0                             0                               1   \n",
       "1                             0                               1   \n",
       "2                             0                               1   \n",
       "3                             0                               1   \n",
       "4                             0                               1   \n",
       "...                         ...                             ...   \n",
       "66621                         0                               1   \n",
       "66622                         0                               1   \n",
       "66623                         0                               1   \n",
       "66624                         0                               1   \n",
       "66625                         0                               1   \n",
       "\n",
       "       NumRealEstateLoans_(5.0, 7.0]  NumRealEstateLoans_(7.0, inf]  \n",
       "0                                  0                              0  \n",
       "1                                  0                              0  \n",
       "2                                  0                              0  \n",
       "3                                  0                              0  \n",
       "4                                  0                              0  \n",
       "...                              ...                            ...  \n",
       "66621                              0                              0  \n",
       "66622                              0                              0  \n",
       "66623                              0                              0  \n",
       "66624                              0                              0  \n",
       "66625                              0                              0  \n",
       "\n",
       "[66626 rows x 29 columns]"
      ]
     },
     "execution_count": 279,
     "metadata": {},
     "output_type": "execute_result"
    }
   ],
   "source": [
    "train_data"
   ]
  },
  {
   "cell_type": "code",
   "execution_count": 280,
   "id": "interior-samba",
   "metadata": {},
   "outputs": [],
   "source": [
    "numerical=['DIR','Income','BalanceToCreditLimit']\n",
    "features=train_data.drop(columns=\"Delinquent90\")\n",
    "target=train_data['Delinquent90']"
   ]
  },
  {
   "cell_type": "code",
   "execution_count": 281,
   "id": "efficient-volunteer",
   "metadata": {},
   "outputs": [],
   "source": [
    "rseed = 0\n",
    "X_train, X_test, y_train, y_test = train_test_split(features,\n",
    "                                                   target,\n",
    "                                                   test_size=0.3,\n",
    "                                                   random_state=rseed,\n",
    "                                                   stratify=target)"
   ]
  },
  {
   "cell_type": "code",
   "execution_count": 282,
   "id": "waiting-kenya",
   "metadata": {},
   "outputs": [],
   "source": [
    "stdSc = StandardScaler()\n",
    "X_train_num = stdSc.fit_transform(X_train[numerical])\n",
    "X_test_num = stdSc.transform(X_test[numerical])\n",
    "X_train[numerical]=X_train_num\n",
    "X_test[numerical]=X_test_num"
   ]
  },
  {
   "cell_type": "code",
   "execution_count": 283,
   "id": "spread-university",
   "metadata": {},
   "outputs": [],
   "source": [
    "metrics = pd.DataFrame({\"score_type\":[\"balanced_accuracy\", \"f1\", \"roc_auc\", \"conf_metrix\"]})\n",
    "metrics.set_index(\"score_type\")\n",
    "\n",
    "def quality_model(model, model_name):\n",
    "    \n",
    "    metrics[model_name] = [np.round(np.mean(cross_val_score(model, X_train, y_train, cv=5, scoring=\"balanced_accuracy\")),3),\n",
    "                            np.round(np.mean(cross_val_score(model, X_train, y_train, cv=5, scoring=\"f1\")),3),\n",
    "                            np.round(np.mean(cross_val_score(model, X_train, y_train, cv=5, scoring=\"roc_auc\")),3),\n",
    "                            confusion_matrix(y_test, model.predict(X_test))\n",
    "                          ]\n",
    "    return metrics"
   ]
  },
  {
   "cell_type": "code",
   "execution_count": 284,
   "id": "grateful-february",
   "metadata": {
    "scrolled": true
   },
   "outputs": [
    {
     "data": {
      "text/html": [
       "<div>\n",
       "<style scoped>\n",
       "    .dataframe tbody tr th:only-of-type {\n",
       "        vertical-align: middle;\n",
       "    }\n",
       "\n",
       "    .dataframe tbody tr th {\n",
       "        vertical-align: top;\n",
       "    }\n",
       "\n",
       "    .dataframe thead th {\n",
       "        text-align: right;\n",
       "    }\n",
       "</style>\n",
       "<table border=\"1\" class=\"dataframe\">\n",
       "  <thead>\n",
       "    <tr style=\"text-align: right;\">\n",
       "      <th></th>\n",
       "      <th>score_type</th>\n",
       "      <th>sgd</th>\n",
       "      <th>log_reg</th>\n",
       "      <th>random_forest</th>\n",
       "    </tr>\n",
       "  </thead>\n",
       "  <tbody>\n",
       "    <tr>\n",
       "      <th>0</th>\n",
       "      <td>balanced_accuracy</td>\n",
       "      <td>0.601</td>\n",
       "      <td>0.614</td>\n",
       "      <td>0.667</td>\n",
       "    </tr>\n",
       "    <tr>\n",
       "      <th>1</th>\n",
       "      <td>f1</td>\n",
       "      <td>0.323</td>\n",
       "      <td>0.357</td>\n",
       "      <td>0.47</td>\n",
       "    </tr>\n",
       "    <tr>\n",
       "      <th>2</th>\n",
       "      <td>roc_auc</td>\n",
       "      <td>0.763</td>\n",
       "      <td>0.82</td>\n",
       "      <td>0.839</td>\n",
       "    </tr>\n",
       "    <tr>\n",
       "      <th>3</th>\n",
       "      <td>conf_metrix</td>\n",
       "      <td>[[18297, 187], [1214, 290]]</td>\n",
       "      <td>[[18359, 125], [1151, 353]]</td>\n",
       "      <td>[[18275, 209], [963, 541]]</td>\n",
       "    </tr>\n",
       "  </tbody>\n",
       "</table>\n",
       "</div>"
      ],
      "text/plain": [
       "          score_type                          sgd  \\\n",
       "0  balanced_accuracy                        0.601   \n",
       "1                 f1                        0.323   \n",
       "2            roc_auc                        0.763   \n",
       "3        conf_metrix  [[18297, 187], [1214, 290]]   \n",
       "\n",
       "                       log_reg               random_forest  \n",
       "0                        0.614                       0.667  \n",
       "1                        0.357                        0.47  \n",
       "2                         0.82                       0.839  \n",
       "3  [[18359, 125], [1151, 353]]  [[18275, 209], [963, 541]]  "
      ]
     },
     "execution_count": 284,
     "metadata": {},
     "output_type": "execute_result"
    }
   ],
   "source": [
    "sgd = SGDClassifier()\n",
    "log_reg = LogisticRegression()\n",
    "rand_forest = RandomForestClassifier()\n",
    "\n",
    "\n",
    "for model, model_name in zip([sgd, log_reg, rand_forest], [\"sgd\", \"log_reg\", \"random_forest\"]):\n",
    "    model.fit(X_train, y_train)\n",
    "    quality_model(model, model_name)\n",
    "metrics"
   ]
  },
  {
   "cell_type": "code",
   "execution_count": 285,
   "id": "robust-native",
   "metadata": {},
   "outputs": [],
   "source": [
    "sgd_params = {'class_weight': {1: 0.9, 0: 0.1},\n",
    "              \"penalty\": \"l2\",\n",
    "              'n_iter_no_change':15,\n",
    "              \"max_iter\": 5,\n",
    "              \"random_state\":rseed,\n",
    "              \"n_jobs\":-1}\n",
    "\n",
    "lr_params = {'penalty':'l2', \n",
    "            'random_state':rseed,\n",
    "            'n_jobs':-1,\n",
    "            'class_weight':\"balanced\"}\n",
    "\n",
    "rf_params = {\"n_estimators\":30,\n",
    "             \"max_features\":None,\n",
    "             \"class_weight\":{1: 0.9, 0: 0.1},\n",
    "             \"min_samples_split\": 15,\n",
    "             \"min_samples_leaf\": 6,\n",
    "             \"max_samples\":0.2,\n",
    "             \"random_state\":rseed,\n",
    "             \"n_jobs\":-1}\n",
    "\n",
    "sgd= SGDClassifier(**sgd_params)\n",
    "lr = LogisticRegression(**lr_params)\n",
    "rf = RandomForestClassifier(**rf_params)"
   ]
  },
  {
   "cell_type": "code",
   "execution_count": 286,
   "id": "determined-sunday",
   "metadata": {
    "scrolled": true
   },
   "outputs": [
    {
     "name": "stdout",
     "output_type": "stream",
     "text": [
      "Best SGDClassifier Params:  {'alpha': 0.0009000000000000001, 'eta0': 1, 'learning_rate': 'optimal', 'loss': 'log'}\n",
      "Best LogisticRegression Params:  {'C': 9e-05, 'solver': 'liblinear'}\n",
      "Best RandomForestClassifier Params:  {'max_depth': 17}\n",
      "CPU times: user 36.5 s, sys: 7 s, total: 43.5 s\n",
      "Wall time: 5min 25s\n"
     ]
    }
   ],
   "source": [
    "%%time\n",
    "\n",
    "grid_param_sgd = {'alpha': np.arange(0.0001, 0.001, 0.0001),\n",
    "                'eta0': [1, 10, 100],\n",
    "                'loss': ['modified_huber', 'hinge', 'log'],\n",
    "                'learning_rate': ['invscaling', 'adaptive', 'optimal']}\n",
    "\n",
    "grid_param_lg = {'C': np.arange(0.00001, 0.0001, 0.00001),\n",
    "                'solver': ['liblinear','sag']}\n",
    "\n",
    "grid_param_rf = {\"max_depth\":range(5,20)}\n",
    "\n",
    "cv_results = {}\n",
    "for model, model_params, model_name in zip([sgd, lr, rf],\n",
    "                                           [grid_param_sgd, grid_param_lg, grid_param_rf],\n",
    "                                           [\"best_sgd\", \"best_lr\", \"best_rf\"]):\n",
    "    \n",
    "    gs = GridSearchCV(model, model_params, cv=3, scoring=\"f1\", n_jobs=-1)\n",
    "    gs_result = gs.fit(X_train, y_train)                     \n",
    "    \n",
    "    quality_model(gs_result.best_estimator_, model_name)\n",
    "    \n",
    "    cv_results[model_name] = gs_result.cv_results_\n",
    "    print(f'Best {model.__class__.__name__} Params: ', gs_result.best_params_) "
   ]
  },
  {
   "cell_type": "code",
   "execution_count": 287,
   "id": "perceived-strain",
   "metadata": {
    "scrolled": false
   },
   "outputs": [
    {
     "data": {
      "text/html": [
       "<div>\n",
       "<style scoped>\n",
       "    .dataframe tbody tr th:only-of-type {\n",
       "        vertical-align: middle;\n",
       "    }\n",
       "\n",
       "    .dataframe tbody tr th {\n",
       "        vertical-align: top;\n",
       "    }\n",
       "\n",
       "    .dataframe thead th {\n",
       "        text-align: right;\n",
       "    }\n",
       "</style>\n",
       "<table border=\"1\" class=\"dataframe\">\n",
       "  <thead>\n",
       "    <tr style=\"text-align: right;\">\n",
       "      <th></th>\n",
       "      <th>score_type</th>\n",
       "      <th>sgd</th>\n",
       "      <th>log_reg</th>\n",
       "      <th>random_forest</th>\n",
       "      <th>best_sgd</th>\n",
       "      <th>best_lr</th>\n",
       "      <th>best_rf</th>\n",
       "    </tr>\n",
       "  </thead>\n",
       "  <tbody>\n",
       "    <tr>\n",
       "      <th>0</th>\n",
       "      <td>balanced_accuracy</td>\n",
       "      <td>0.601</td>\n",
       "      <td>0.614</td>\n",
       "      <td>0.667</td>\n",
       "      <td>0.74</td>\n",
       "      <td>0.726</td>\n",
       "      <td>0.731</td>\n",
       "    </tr>\n",
       "    <tr>\n",
       "      <th>1</th>\n",
       "      <td>f1</td>\n",
       "      <td>0.323</td>\n",
       "      <td>0.357</td>\n",
       "      <td>0.47</td>\n",
       "      <td>0.419</td>\n",
       "      <td>0.409</td>\n",
       "      <td>0.508</td>\n",
       "    </tr>\n",
       "    <tr>\n",
       "      <th>2</th>\n",
       "      <td>roc_auc</td>\n",
       "      <td>0.763</td>\n",
       "      <td>0.82</td>\n",
       "      <td>0.839</td>\n",
       "      <td>0.819</td>\n",
       "      <td>0.805</td>\n",
       "      <td>0.864</td>\n",
       "    </tr>\n",
       "    <tr>\n",
       "      <th>3</th>\n",
       "      <td>conf_metrix</td>\n",
       "      <td>[[18297, 187], [1214, 290]]</td>\n",
       "      <td>[[18359, 125], [1151, 353]]</td>\n",
       "      <td>[[18275, 209], [963, 541]]</td>\n",
       "      <td>[[16789, 1695], [634, 870]]</td>\n",
       "      <td>[[16763, 1721], [661, 843]]</td>\n",
       "      <td>[[17800, 684], [747, 757]]</td>\n",
       "    </tr>\n",
       "  </tbody>\n",
       "</table>\n",
       "</div>"
      ],
      "text/plain": [
       "          score_type                          sgd  \\\n",
       "0  balanced_accuracy                        0.601   \n",
       "1                 f1                        0.323   \n",
       "2            roc_auc                        0.763   \n",
       "3        conf_metrix  [[18297, 187], [1214, 290]]   \n",
       "\n",
       "                       log_reg               random_forest  \\\n",
       "0                        0.614                       0.667   \n",
       "1                        0.357                        0.47   \n",
       "2                         0.82                       0.839   \n",
       "3  [[18359, 125], [1151, 353]]  [[18275, 209], [963, 541]]   \n",
       "\n",
       "                      best_sgd                      best_lr  \\\n",
       "0                         0.74                        0.726   \n",
       "1                        0.419                        0.409   \n",
       "2                        0.819                        0.805   \n",
       "3  [[16789, 1695], [634, 870]]  [[16763, 1721], [661, 843]]   \n",
       "\n",
       "                      best_rf  \n",
       "0                       0.731  \n",
       "1                       0.508  \n",
       "2                       0.864  \n",
       "3  [[17800, 684], [747, 757]]  "
      ]
     },
     "execution_count": 287,
     "metadata": {},
     "output_type": "execute_result"
    }
   ],
   "source": [
    "metrics"
   ]
  },
  {
   "cell_type": "code",
   "execution_count": 288,
   "id": "controlled-israeli",
   "metadata": {},
   "outputs": [
    {
     "data": {
      "image/png": "[encoded data removed]",
      "text/plain": [
       "<Figure size 432x288 with 1 Axes>"
      ]
     },
     "metadata": {},
     "output_type": "display_data"
    }
   ],
   "source": [
    "x = cv_results[\"best_rf\"]['param_max_depth'].tolist()\n",
    "y = cv_results[\"best_rf\"]['mean_test_score'].tolist()\n",
    "\n",
    "plt.plot(x,y)\n",
    "plt.xlabel(\"max_depth\")\n",
    "plt.ylabel(\"F1 core\")\n",
    "plt.title(\"Best max_depth - {}\".format(x[np.argmax(y)]))\n",
    "plt.show()"
   ]
  },
  {
   "cell_type": "code",
   "execution_count": 289,
   "id": "sporting-structure",
   "metadata": {
    "scrolled": true
   },
   "outputs": [
    {
     "data": {
      "image/png": "[encoded data removed]",
      "text/plain": [
       "<Figure size 432x288 with 1 Axes>"
      ]
     },
     "metadata": {},
     "output_type": "display_data"
    }
   ],
   "source": [
    "n_estimator = [30,50,80,100,120,150,200,300]\n",
    "f1 =[]\n",
    "for n in n_estimator:\n",
    "    \n",
    "    rf_params = {\"n_estimators\":n,\n",
    "             \"max_features\":None,\n",
    "             \"class_weight\":{1: 0.9, 0: 0.1},\n",
    "             \"min_samples_split\": 15,\n",
    "             \"min_samples_leaf\": 6,\n",
    "             \"max_samples\":0.2,\n",
    "             \"max_depth\":19,\n",
    "             \"random_state\":rseed,\n",
    "             \"n_jobs\":-1}\n",
    "    \n",
    "    rf = RandomForestClassifier(**rf_params).fit(X_train, y_train)\n",
    "    f1.append(f1_score(rf.predict(X_test), y_test))\n",
    "    \n",
    "plt.plot(n_estimator, f1)\n",
    "plt.title(\"Best estimator - {}\".format(n_estimator[np.argmax(f1)]))\n",
    "plt.xlabel(\"n_estimator\")\n",
    "plt.ylabel(\"F1_score\")\n",
    "plt.show()"
   ]
  },
  {
   "cell_type": "code",
   "execution_count": 290,
   "id": "unavailable-separate",
   "metadata": {},
   "outputs": [
    {
     "data": {
      "text/html": [
       "<div>\n",
       "<style scoped>\n",
       "    .dataframe tbody tr th:only-of-type {\n",
       "        vertical-align: middle;\n",
       "    }\n",
       "\n",
       "    .dataframe tbody tr th {\n",
       "        vertical-align: top;\n",
       "    }\n",
       "\n",
       "    .dataframe thead th {\n",
       "        text-align: right;\n",
       "    }\n",
       "</style>\n",
       "<table border=\"1\" class=\"dataframe\">\n",
       "  <thead>\n",
       "    <tr style=\"text-align: right;\">\n",
       "      <th></th>\n",
       "      <th>score_type</th>\n",
       "      <th>sgd</th>\n",
       "      <th>log_reg</th>\n",
       "      <th>random_forest</th>\n",
       "      <th>best_sgd</th>\n",
       "      <th>best_lr</th>\n",
       "      <th>best_rf</th>\n",
       "      <th>Best_rf</th>\n",
       "    </tr>\n",
       "  </thead>\n",
       "  <tbody>\n",
       "    <tr>\n",
       "      <th>0</th>\n",
       "      <td>balanced_accuracy</td>\n",
       "      <td>0.601</td>\n",
       "      <td>0.614</td>\n",
       "      <td>0.667</td>\n",
       "      <td>0.74</td>\n",
       "      <td>0.726</td>\n",
       "      <td>0.731</td>\n",
       "      <td>0.729</td>\n",
       "    </tr>\n",
       "    <tr>\n",
       "      <th>1</th>\n",
       "      <td>f1</td>\n",
       "      <td>0.323</td>\n",
       "      <td>0.357</td>\n",
       "      <td>0.47</td>\n",
       "      <td>0.419</td>\n",
       "      <td>0.409</td>\n",
       "      <td>0.508</td>\n",
       "      <td>0.513</td>\n",
       "    </tr>\n",
       "    <tr>\n",
       "      <th>2</th>\n",
       "      <td>roc_auc</td>\n",
       "      <td>0.763</td>\n",
       "      <td>0.82</td>\n",
       "      <td>0.839</td>\n",
       "      <td>0.819</td>\n",
       "      <td>0.805</td>\n",
       "      <td>0.864</td>\n",
       "      <td>0.868</td>\n",
       "    </tr>\n",
       "    <tr>\n",
       "      <th>3</th>\n",
       "      <td>conf_metrix</td>\n",
       "      <td>[[18297, 187], [1214, 290]]</td>\n",
       "      <td>[[18359, 125], [1151, 353]]</td>\n",
       "      <td>[[18275, 209], [963, 541]]</td>\n",
       "      <td>[[16789, 1695], [634, 870]]</td>\n",
       "      <td>[[16763, 1721], [661, 843]]</td>\n",
       "      <td>[[17800, 684], [747, 757]]</td>\n",
       "      <td>[[17808, 676], [748, 756]]</td>\n",
       "    </tr>\n",
       "  </tbody>\n",
       "</table>\n",
       "</div>"
      ],
      "text/plain": [
       "          score_type                          sgd  \\\n",
       "0  balanced_accuracy                        0.601   \n",
       "1                 f1                        0.323   \n",
       "2            roc_auc                        0.763   \n",
       "3        conf_metrix  [[18297, 187], [1214, 290]]   \n",
       "\n",
       "                       log_reg               random_forest  \\\n",
       "0                        0.614                       0.667   \n",
       "1                        0.357                        0.47   \n",
       "2                         0.82                       0.839   \n",
       "3  [[18359, 125], [1151, 353]]  [[18275, 209], [963, 541]]   \n",
       "\n",
       "                      best_sgd                      best_lr  \\\n",
       "0                         0.74                        0.726   \n",
       "1                        0.419                        0.409   \n",
       "2                        0.819                        0.805   \n",
       "3  [[16789, 1695], [634, 870]]  [[16763, 1721], [661, 843]]   \n",
       "\n",
       "                      best_rf                     Best_rf  \n",
       "0                       0.731                       0.729  \n",
       "1                       0.508                       0.513  \n",
       "2                       0.864                       0.868  \n",
       "3  [[17800, 684], [747, 757]]  [[17808, 676], [748, 756]]  "
      ]
     },
     "execution_count": 290,
     "metadata": {},
     "output_type": "execute_result"
    }
   ],
   "source": [
    "best_rf_params = {\"n_estimators\":100,\n",
    "             \"max_features\":None,\n",
    "             \"class_weight\":{1: 0.9, 0: 0.1}, \n",
    "             \"min_samples_split\": 15,\n",
    "             \"min_samples_leaf\": 6,\n",
    "             \"max_depth\":17,\n",
    "             \"max_samples\":0.2,\n",
    "             \"random_state\":rseed,\n",
    "             \"n_jobs\":-1}\n",
    "\n",
    "best_rf = RandomForestClassifier(**best_rf_params).fit(X_train, y_train)\n",
    "quality_model(best_rf, \"Best_rf\")"
   ]
  },
  {
   "cell_type": "code",
   "execution_count": 291,
   "id": "initial-hobby",
   "metadata": {},
   "outputs": [
    {
     "data": {
      "image/png": "[encoded data removed]",
      "text/plain": [
       "<Figure size 720x576 with 1 Axes>"
      ]
     },
     "metadata": {},
     "output_type": "display_data"
    }
   ],
   "source": [
    "def plot_feature_importance(importance, names):\n",
    "\n",
    "    data={'feature_names':names, 'feature_importance':importance}\n",
    "    fi_df = pd.DataFrame(data).sort_values(by='feature_importance', ascending=False)\n",
    "    \n",
    "    plt.figure(figsize=(10,8))\n",
    "    sns.barplot(x='feature_importance', y='feature_names', data=fi_df)\n",
    "    \n",
    "    plt.title('RandomForest FEATURE IMPORTANCE')\n",
    "    plt.xlabel('FEATURE IMPORTANCE')\n",
    "    plt.ylabel('FEATURE NAMES')\n",
    "\n",
    "plot_feature_importance(best_rf.feature_importances_, features.columns)"
   ]
  },
  {
   "cell_type": "code",
   "execution_count": 292,
   "id": "unexpected-account",
   "metadata": {},
   "outputs": [
    {
     "data": {
      "image/png": "[encoded data removed]",
      "text/plain": [
       "<Figure size 288x288 with 1 Axes>"
      ]
     },
     "metadata": {},
     "output_type": "display_data"
    }
   ],
   "source": [
    "cm = confusion_matrix(y_test, best_rf.predict(X_test))\n",
    "conf_matrix = pd.DataFrame(data = cm, columns = ['Predicted:0','Predicted:1'], index=['Actual:0','Actual:1'])\n",
    "plt.figure(figsize = (4,4))\n",
    "sns.heatmap(conf_matrix, annot=True, fmt='d', cmap=\"YlGnBu\", cbar=False);"
   ]
  }
 ],
 "metadata": {
  "kernelspec": {
   "display_name": "Python 3",
   "language": "python",
   "name": "python3"
  },
  "language_info": {
   "codemirror_mode": {
    "name": "ipython",
    "version": 3
   },
   "file_extension": ".py",
   "mimetype": "text/x-python",
   "name": "python",
   "nbconvert_exporter": "python",
   "pygments_lexer": "ipython3",
   "version": "3.8.5"
  }
 },
 "nbformat": 4,
 "nbformat_minor": 5
}
